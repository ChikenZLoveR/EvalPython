{
 "cells": [
  {
   "cell_type": "code",
   "execution_count": 25,
   "metadata": {},
   "outputs": [],
   "source": [
    "#Importation des librairies\n",
    "import pandas as pd\n",
    "import numpy as np\n",
    "import seaborn as sns"
   ]
  },
  {
   "cell_type": "code",
   "execution_count": 28,
   "metadata": {},
   "outputs": [],
   "source": [
    "#Chargement du fichier csv dans un objet \"df\"\n",
    "df=pd.read_csv('donnees-tests-covid19-labo-quotidien-2020-05-29-19h00.csv', sep=\";\") "
   ]
  },
  {
   "cell_type": "code",
   "execution_count": 60,
   "metadata": {},
   "outputs": [
    {
     "data": {
      "text/plain": [
       "dep            object\n",
       "jour           object\n",
       "clage_covid    object\n",
       "nb_test         int64\n",
       "nb_pos          int64\n",
       "nb_test_h       int64\n",
       "nb_pos_h        int64\n",
       "nb_test_f       int64\n",
       "nb_pos_f        int64\n",
       "dtype: object"
      ]
     },
     "execution_count": 60,
     "metadata": {},
     "output_type": "execute_result"
    }
   ],
   "source": [
    "#On vérifie les types de variables et on les mets en avant\n",
    "df.dtypes"
   ]
  },
  {
   "cell_type": "code",
   "execution_count": 6,
   "metadata": {},
   "outputs": [],
   "source": [
    "#Le présent jeu de données renseigne sur le nombre de tests de dépistage du COVID-19 réalisés par les laboratoires de villes, par département et par sexe :\n",
    "#\n",
    "#    - Nombre de tests réalisés ;\n",
    "#     -Nombre de tests positifs.\n",
    "#\n",
    "#Détails des données présentes dans le dataset : \n",
    "#\n",
    "#nom    typevar signification\n",
    "#\n",
    "#\n",
    "#dep\tinteger\tDépartement\n",
    "#jour\tstring($date)\tDate de notification \tDate of notice\t10/03/2020\n",
    "#clage_covid\tstring \tTranche d'âge des patients \tAge group of patients \n",
    "#nb_test\tinteger\tNombre de tests pour recherche de SARS-CoV-2\n",
    "#nb_pos\tinteger\tNombre de tests positifs pour recherche de SARS-CoV-2\n",
    "#tx_pos\tinteger\tTaux de tests positif pour recherche de SARS-CoV-2\n",
    "#nb_test_h\tinteger\tNombre de tests pour recherche de SARS-CoV-2 - Hommes\n",
    "#nb_pos_h\tinteger\tNombre de tests positifs pour recherche de SARS-CoV-2 - Hommes\n",
    "#nb_test_f\tinteger\tNombre de tests pour recherche de SARS-CoV-2 - Femmes\n",
    "#nb_pos_f\tinteger\tNombre de tests positifs pour recherche de SARS-CoV-2 - Femmes"
   ]
  },
  {
   "cell_type": "code",
   "execution_count": 50,
   "metadata": {},
   "outputs": [],
   "source": [
    "#Filtrage des données pur ne garder que celles concernat le département de Paris (75)\n",
    "data1 = df.query('dep == \"75\"')"
   ]
  },
  {
   "cell_type": "code",
   "execution_count": 51,
   "metadata": {},
   "outputs": [
    {
     "data": {
      "text/html": [
       "<div>\n",
       "<style scoped>\n",
       "    .dataframe tbody tr th:only-of-type {\n",
       "        vertical-align: middle;\n",
       "    }\n",
       "\n",
       "    .dataframe tbody tr th {\n",
       "        vertical-align: top;\n",
       "    }\n",
       "\n",
       "    .dataframe thead th {\n",
       "        text-align: right;\n",
       "    }\n",
       "</style>\n",
       "<table border=\"1\" class=\"dataframe\">\n",
       "  <thead>\n",
       "    <tr style=\"text-align: right;\">\n",
       "      <th></th>\n",
       "      <th>dep</th>\n",
       "      <th>jour</th>\n",
       "      <th>clage_covid</th>\n",
       "      <th>nb_test</th>\n",
       "      <th>nb_pos</th>\n",
       "      <th>nb_test_h</th>\n",
       "      <th>nb_pos_h</th>\n",
       "      <th>nb_test_f</th>\n",
       "      <th>nb_pos_f</th>\n",
       "    </tr>\n",
       "  </thead>\n",
       "  <tbody>\n",
       "    <tr>\n",
       "      <th>35100</th>\n",
       "      <td>75</td>\n",
       "      <td>2020-03-10</td>\n",
       "      <td>0</td>\n",
       "      <td>1</td>\n",
       "      <td>1</td>\n",
       "      <td>1</td>\n",
       "      <td>1</td>\n",
       "      <td>0</td>\n",
       "      <td>0</td>\n",
       "    </tr>\n",
       "    <tr>\n",
       "      <th>35101</th>\n",
       "      <td>75</td>\n",
       "      <td>2020-03-10</td>\n",
       "      <td>A</td>\n",
       "      <td>0</td>\n",
       "      <td>0</td>\n",
       "      <td>0</td>\n",
       "      <td>0</td>\n",
       "      <td>0</td>\n",
       "      <td>0</td>\n",
       "    </tr>\n",
       "    <tr>\n",
       "      <th>35102</th>\n",
       "      <td>75</td>\n",
       "      <td>2020-03-10</td>\n",
       "      <td>B</td>\n",
       "      <td>0</td>\n",
       "      <td>0</td>\n",
       "      <td>0</td>\n",
       "      <td>0</td>\n",
       "      <td>0</td>\n",
       "      <td>0</td>\n",
       "    </tr>\n",
       "    <tr>\n",
       "      <th>35103</th>\n",
       "      <td>75</td>\n",
       "      <td>2020-03-10</td>\n",
       "      <td>C</td>\n",
       "      <td>0</td>\n",
       "      <td>0</td>\n",
       "      <td>0</td>\n",
       "      <td>0</td>\n",
       "      <td>0</td>\n",
       "      <td>0</td>\n",
       "    </tr>\n",
       "    <tr>\n",
       "      <th>35104</th>\n",
       "      <td>75</td>\n",
       "      <td>2020-03-10</td>\n",
       "      <td>D</td>\n",
       "      <td>1</td>\n",
       "      <td>1</td>\n",
       "      <td>1</td>\n",
       "      <td>1</td>\n",
       "      <td>0</td>\n",
       "      <td>0</td>\n",
       "    </tr>\n",
       "  </tbody>\n",
       "</table>\n",
       "</div>"
      ],
      "text/plain": [
       "      dep        jour clage_covid  nb_test  nb_pos  nb_test_h  nb_pos_h  \\\n",
       "35100  75  2020-03-10           0        1       1          1         1   \n",
       "35101  75  2020-03-10           A        0       0          0         0   \n",
       "35102  75  2020-03-10           B        0       0          0         0   \n",
       "35103  75  2020-03-10           C        0       0          0         0   \n",
       "35104  75  2020-03-10           D        1       1          1         1   \n",
       "\n",
       "       nb_test_f  nb_pos_f  \n",
       "35100          0         0  \n",
       "35101          0         0  \n",
       "35102          0         0  \n",
       "35103          0         0  \n",
       "35104          0         0  "
      ]
     },
     "execution_count": 51,
     "metadata": {},
     "output_type": "execute_result"
    }
   ],
   "source": [
    "#Contenu du nouveau dataframe avec seulement les données concernant Paris\n",
    "data1.head()"
   ]
  },
  {
   "cell_type": "code",
   "execution_count": 56,
   "metadata": {},
   "outputs": [
    {
     "data": {
      "text/plain": [
       "<seaborn.axisgrid.FacetGrid at 0x7f337f180b38>"
      ]
     },
     "execution_count": 56,
     "metadata": {},
     "output_type": "execute_result"
    },
    {
     "data": {
      "image/png": "[encoded data removed]",
      "text/plain": [
       "<Figure size 360x360 with 1 Axes>"
      ]
     },
     "metadata": {
      "needs_background": "light"
     },
     "output_type": "display_data"
    }
   ],
   "source": [
    "#Ce graphique sert a visualiser le nombre de cas testés positifs entre le 10/03/2020 et le 26/05/2020 \n",
    "#pour tous les laboratoires de ville de Paris \n",
    "sns.relplot(x=\"jour\", y=\"nb_pos\", kind=\"line\", data=data1)"
   ]
  },
  {
   "cell_type": "code",
   "execution_count": null,
   "metadata": {},
   "outputs": [],
   "source": []
  }
 ],
 "metadata": {
  "kernelspec": {
   "display_name": "Python 3",
   "language": "python",
   "name": "python3"
  },
  "language_info": {
   "codemirror_mode": {
    "name": "ipython",
    "version": 3
   },
   "file_extension": ".py",
   "mimetype": "text/x-python",
   "name": "python",
   "nbconvert_exporter": "python",
   "pygments_lexer": "ipython3",
   "version": "3.6.8"
  }
 },
 "nbformat": 4,
 "nbformat_minor": 4
}
